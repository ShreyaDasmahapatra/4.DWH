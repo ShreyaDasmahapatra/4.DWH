{
 "cells": [
  {
   "cell_type": "code",
   "execution_count": 51,
   "id": "1a245ab8",
   "metadata": {},
   "outputs": [
    {
     "name": "stdout",
     "output_type": "stream",
     "text": [
      "Requirement already satisfied: psycopg2 in c:\\users\\asus\\anaconda3\\lib\\site-packages (2.9.6)\n"
     ]
    }
   ],
   "source": [
    "## This libraray is used to connect with the database and interact with it.\n",
    "!pip install psycopg2"
   ]
  },
  {
   "cell_type": "code",
   "execution_count": 2,
   "id": "96beb969",
   "metadata": {},
   "outputs": [],
   "source": [
    "import psycopg2"
   ]
  },
  {
   "cell_type": "markdown",
   "id": "b7de963c",
   "metadata": {},
   "source": [
    "# Create a Connection to the database"
   ]
  },
  {
   "cell_type": "code",
   "execution_count": 9,
   "id": "128dd13e",
   "metadata": {},
   "outputs": [],
   "source": [
    "try:\n",
    "    #this function has 4 parameters..host(server),dbname,user&password you can get the details by launching sqlshell\n",
    "    conn=psycopg2.connect(\"host=localhost dbname=postgres user=postgres password=Postgres@99\")\n",
    "except psycopg2.Error as e:\n",
    "    print(\"Error:Could not connect to the postgres database\")\n",
    "    print(e)"
   ]
  },
  {
   "cell_type": "markdown",
   "id": "f1d8f71c",
   "metadata": {},
   "source": [
    "# Create cursor which is used to execute the queries"
   ]
  },
  {
   "cell_type": "code",
   "execution_count": 11,
   "id": "8fd03d12",
   "metadata": {},
   "outputs": [],
   "source": [
    "try:\n",
    "    cur=conn.cursor()\n",
    "except psycopg2.Error as e:\n",
    "    print(\"Error:Could not create cursor to the postgres database\")\n",
    "    print(e)"
   ]
  },
  {
   "cell_type": "markdown",
   "id": "62cb3014",
   "metadata": {},
   "source": [
    "### Set automatic commit to true.This is done to commit every queries we do for transactions to occur otherwise we need to do it every time we doany query."
   ]
  },
  {
   "cell_type": "code",
   "execution_count": 12,
   "id": "17d6e9f7",
   "metadata": {},
   "outputs": [],
   "source": [
    "conn.set_session(autocommit=True)"
   ]
  },
  {
   "cell_type": "markdown",
   "id": "745f6813",
   "metadata": {},
   "source": [
    "# Create database"
   ]
  },
  {
   "cell_type": "code",
   "execution_count": 15,
   "id": "c4016aa3",
   "metadata": {},
   "outputs": [
    {
     "name": "stdout",
     "output_type": "stream",
     "text": [
      "database \"myfirstdb\" already exists\n",
      "\n"
     ]
    }
   ],
   "source": [
    "#You can see the below database in sql shell by entering \\l   (small L)\n",
    "try:\n",
    "    cur.execute(\"create database myfirstdb\")\n",
    "except psycopg2.Error as e:\n",
    "    print(e)"
   ]
  },
  {
   "cell_type": "markdown",
   "id": "bcf8c2cf",
   "metadata": {},
   "source": [
    "# Stop the connection with the default db(postgres) and create a new connection with nw db(myfirstdb) along with new cursor"
   ]
  },
  {
   "cell_type": "code",
   "execution_count": 19,
   "id": "2d1a0393",
   "metadata": {},
   "outputs": [],
   "source": [
    "try:\n",
    "    conn.close()\n",
    "except psycopg2.Error as e:\n",
    "    print(e)\n",
    "\n",
    "try:\n",
    "    conn=psycopg2.connect(\"host=localhost dbname=myfirstdb user=postgres password=Postgres@99\")\n",
    "except psycopg2.Error as e:\n",
    "    print(\"Error:Could not connect to the postgres database\")\n",
    "    print(e)\n",
    "    \n",
    "try:\n",
    "    cur=conn.cursor()\n",
    "except psycopg2.Error as e:\n",
    "    print(\"Error:Could not create cursor to the postgres database\")\n",
    "    print(e)\n",
    "    \n",
    "conn.set_session(autocommit=True)"
   ]
  },
  {
   "cell_type": "markdown",
   "id": "916ef736",
   "metadata": {},
   "source": [
    "# Create table name student with the following columns.You can also refer the columns in the draw.io file\n",
    "\n",
    "student_id<br>\n",
    "name<br>\n",
    "age<br>\n",
    "gender<br>\n",
    "subjects<br>\n",
    "marks"
   ]
  },
  {
   "cell_type": "code",
   "execution_count": 20,
   "id": "807eebf3",
   "metadata": {},
   "outputs": [],
   "source": [
    "#If you want to see the following table , you can execute \\c myfirst db..to change the db from postgres to myfirstdb and then\n",
    "#...\\dt\n",
    "try:\n",
    "    cur.execute(\"CREATE TABLE IF NOT EXISTS students(student_id int,name varchar,age int,gender varchar,subjects varchar,\\\n",
    "                 marks int);\")\n",
    "except psycopg2.Error as e:\n",
    "    print(\"Could not create the table\")\n",
    "    print(e)"
   ]
  },
  {
   "cell_type": "markdown",
   "id": "cb02f224",
   "metadata": {},
   "source": [
    "# Insert the following two rows in the table\n",
    "\n",
    "1st Row: 1,Raj,23,Male,Python,85<br>\n",
    "2nd Row: 2,Priya,22,Female,Python,86"
   ]
  },
  {
   "cell_type": "code",
   "execution_count": 48,
   "id": "6805ec5b",
   "metadata": {},
   "outputs": [],
   "source": [
    "try:\n",
    "    cur.execute(\"INSERT INTO students(student_id,name,age,gender,subjects,marks)\\\n",
    "                 VALUES(%s,%s,%s,%s,%s,%s)\",\n",
    "                 (1,\"Raj\",23,\"Male\",\"Python\",85))\n",
    "except psycopg2.Error as e:\n",
    "    print(\"Error:Could not insert rows\")\n",
    "    print(e)\n",
    "                \n",
    "try:\n",
    "    cur.execute(\"INSERT INTO students(student_id,name,age,gender,subjects,marks)\\\n",
    "                 VALUES(%s,%s,%s,%s,%s,%s)\",\n",
    "                 (2,\"Priya\",22,\"Female\",\"Python\",86))\n",
    "except psycopg2.Error as e:\n",
    "    print(\"Error:Could not insert rows\")\n",
    "    print(e)"
   ]
  },
  {
   "cell_type": "markdown",
   "id": "741a060c",
   "metadata": {},
   "source": [
    "# Validate the data was inserted into the tables"
   ]
  },
  {
   "cell_type": "code",
   "execution_count": 49,
   "id": "02f9c81b",
   "metadata": {},
   "outputs": [
    {
     "name": "stdout",
     "output_type": "stream",
     "text": [
      "(1, 'Raj', 23, 'Male', 'Python', 85)\n",
      "(2, 'Priya', 22, 'Female', 'Python', 86)\n"
     ]
    }
   ],
   "source": [
    "try:\n",
    "    cur.execute(\"SELECT * FROM students;\") #you can execute this tatement in sql shell as well \"SELECT * FROM students;\"\n",
    "except  psycopg2.Error as e:\n",
    "    print(\"Error:SELECT *...\")\n",
    "    print(e)\n",
    "    \n",
    "row=cur.fetchone()\n",
    "while row:\n",
    "    print(row) #as the above qury is run multiple times hence we can see duplicate rows\n",
    "    row=cur.fetchone()"
   ]
  },
  {
   "cell_type": "markdown",
   "id": "03c00e51",
   "metadata": {},
   "source": [
    "# And finally close your connection and cursor"
   ]
  },
  {
   "cell_type": "code",
   "execution_count": 50,
   "id": "bf7a6474",
   "metadata": {},
   "outputs": [],
   "source": [
    "cur.close()\n",
    "conn.close()"
   ]
  },
  {
   "cell_type": "markdown",
   "id": "df7f91a2",
   "metadata": {},
   "source": [
    "# Deleting all rows"
   ]
  },
  {
   "cell_type": "code",
   "execution_count": 44,
   "id": "02395625",
   "metadata": {},
   "outputs": [],
   "source": [
    "#do not run this....this is just for knowledge\n",
    "try:\n",
    "    cur.execute(\"DELETE FROM students WHERE student_id=1 or student_id=2;\")\n",
    "except  psycopg2.Error as e:\n",
    "    print(\"Error:Could not delete the rows\")\n",
    "    print(e)\n"
   ]
  },
  {
   "cell_type": "code",
   "execution_count": null,
   "id": "3c9864eb",
   "metadata": {},
   "outputs": [],
   "source": []
  }
 ],
 "metadata": {
  "kernelspec": {
   "display_name": "Python 3 (ipykernel)",
   "language": "python",
   "name": "python3"
  },
  "language_info": {
   "codemirror_mode": {
    "name": "ipython",
    "version": 3
   },
   "file_extension": ".py",
   "mimetype": "text/x-python",
   "name": "python",
   "nbconvert_exporter": "python",
   "pygments_lexer": "ipython3",
   "version": "3.9.12"
  }
 },
 "nbformat": 4,
 "nbformat_minor": 5
}
